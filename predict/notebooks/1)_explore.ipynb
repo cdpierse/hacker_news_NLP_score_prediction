{
 "cells": [
  {
   "cell_type": "code",
   "execution_count": 1,
   "metadata": {},
   "outputs": [
    {
     "name": "stdout",
     "output_type": "stream",
     "text": [
      "/Users/charlesp/Documents/Projects/hacker_news_NLP_score_prediction/predict\n"
     ]
    }
   ],
   "source": [
    "cd .."
   ]
  },
  {
   "cell_type": "code",
   "execution_count": 2,
   "metadata": {},
   "outputs": [],
   "source": [
    "from process import Process"
   ]
  },
  {
   "cell_type": "code",
   "execution_count": 3,
   "metadata": {},
   "outputs": [
    {
     "name": "stderr",
     "output_type": "stream",
     "text": [
      "INFO:root:Creating connection to hn_db...\n",
      "INFO:root:Successfully connected.\n",
      "INFO:root:Retrieved posts from database\n",
      "INFO:root:Closing DB Connection.\n"
     ]
    }
   ],
   "source": [
    "p = Process()"
   ]
  },
  {
   "cell_type": "code",
   "execution_count": 4,
   "metadata": {},
   "outputs": [
    {
     "data": {
      "text/html": [
       "<div>\n",
       "<style scoped>\n",
       "    .dataframe tbody tr th:only-of-type {\n",
       "        vertical-align: middle;\n",
       "    }\n",
       "\n",
       "    .dataframe tbody tr th {\n",
       "        vertical-align: top;\n",
       "    }\n",
       "\n",
       "    .dataframe thead th {\n",
       "        text-align: right;\n",
       "    }\n",
       "</style>\n",
       "<table border=\"1\" class=\"dataframe\">\n",
       "  <thead>\n",
       "    <tr style=\"text-align: right;\">\n",
       "      <th></th>\n",
       "      <th>id</th>\n",
       "      <th>title</th>\n",
       "      <th>url</th>\n",
       "      <th>type</th>\n",
       "      <th>score</th>\n",
       "      <th>timestamp</th>\n",
       "    </tr>\n",
       "  </thead>\n",
       "  <tbody>\n",
       "    <tr>\n",
       "      <th>0</th>\n",
       "      <td>3676512</td>\n",
       "      <td>New iPad is official: 2048x1536 retina display</td>\n",
       "      <td>http://www.engadget.com/2012/03/07/the-new-ipa...</td>\n",
       "      <td>story</td>\n",
       "      <td>18</td>\n",
       "      <td>2012-03-07 18:28:01</td>\n",
       "    </tr>\n",
       "    <tr>\n",
       "      <th>1</th>\n",
       "      <td>22034463</td>\n",
       "      <td>The Art of Problem-Solving</td>\n",
       "      <td>https://amymhaddad.com/the-art-of-problem-solving</td>\n",
       "      <td>story</td>\n",
       "      <td>2</td>\n",
       "      <td>2020-01-13 13:57:43</td>\n",
       "    </tr>\n",
       "    <tr>\n",
       "      <th>2</th>\n",
       "      <td>752581</td>\n",
       "      <td>Twitter is for Old People</td>\n",
       "      <td>http://crenk.com/twitter-is-for-old-people/</td>\n",
       "      <td>story</td>\n",
       "      <td>1</td>\n",
       "      <td>2009-08-10 11:37:22</td>\n",
       "    </tr>\n",
       "    <tr>\n",
       "      <th>3</th>\n",
       "      <td>8176404</td>\n",
       "      <td>President Obama: No Internet Fast Lanes</td>\n",
       "      <td>http://www.nytimes.com/2014/08/14/opinion/pres...</td>\n",
       "      <td>story</td>\n",
       "      <td>2</td>\n",
       "      <td>2014-08-14 07:18:32</td>\n",
       "    </tr>\n",
       "    <tr>\n",
       "      <th>4</th>\n",
       "      <td>8160475</td>\n",
       "      <td>Free Photo Editing Software Lets You Manipulat...</td>\n",
       "      <td>http://reframe.gizmodo.com/free-photo-editing-...</td>\n",
       "      <td>story</td>\n",
       "      <td>2</td>\n",
       "      <td>2014-08-10 19:32:42</td>\n",
       "    </tr>\n",
       "  </tbody>\n",
       "</table>\n",
       "</div>"
      ],
      "text/plain": [
       "         id                                              title  \\\n",
       "0   3676512     New iPad is official: 2048x1536 retina display   \n",
       "1  22034463                         The Art of Problem-Solving   \n",
       "2    752581                          Twitter is for Old People   \n",
       "3   8176404            President Obama: No Internet Fast Lanes   \n",
       "4   8160475  Free Photo Editing Software Lets You Manipulat...   \n",
       "\n",
       "                                                 url   type  score  \\\n",
       "0  http://www.engadget.com/2012/03/07/the-new-ipa...  story     18   \n",
       "1  https://amymhaddad.com/the-art-of-problem-solving  story      2   \n",
       "2        http://crenk.com/twitter-is-for-old-people/  story      1   \n",
       "3  http://www.nytimes.com/2014/08/14/opinion/pres...  story      2   \n",
       "4  http://reframe.gizmodo.com/free-photo-editing-...  story      2   \n",
       "\n",
       "            timestamp  \n",
       "0 2012-03-07 18:28:01  \n",
       "1 2020-01-13 13:57:43  \n",
       "2 2009-08-10 11:37:22  \n",
       "3 2014-08-14 07:18:32  \n",
       "4 2014-08-10 19:32:42  "
      ]
     },
     "execution_count": 4,
     "metadata": {},
     "output_type": "execute_result"
    }
   ],
   "source": [
    "p.posts.head()"
   ]
  },
  {
   "cell_type": "code",
   "execution_count": 5,
   "metadata": {},
   "outputs": [
    {
     "name": "stdout",
     "output_type": "stream",
     "text": [
      "<class 'pandas.core.frame.DataFrame'>\n",
      "RangeIndex: 3509434 entries, 0 to 3509433\n",
      "Data columns (total 6 columns):\n",
      " #   Column     Dtype         \n",
      "---  ------     -----         \n",
      " 0   id         Int64         \n",
      " 1   title      string        \n",
      " 2   url        string        \n",
      " 3   type       string        \n",
      " 4   score      Int64         \n",
      " 5   timestamp  datetime64[ns]\n",
      "dtypes: Int64(2), datetime64[ns](1), string(3)\n",
      "memory usage: 167.3 MB\n"
     ]
    }
   ],
   "source": [
    "p.posts.info()"
   ]
  },
  {
   "cell_type": "markdown",
   "metadata": {},
   "source": [
    "## What's The Average Length Of A Post ?\n",
    "This will inform our custom initialization of the model's block size."
   ]
  },
  {
   "cell_type": "code",
   "execution_count": 13,
   "metadata": {},
   "outputs": [],
   "source": [
    "p.posts['len'] = p.posts.title.str.len()"
   ]
  },
  {
   "cell_type": "code",
   "execution_count": 14,
   "metadata": {},
   "outputs": [
    {
     "data": {
      "text/html": [
       "<div>\n",
       "<style scoped>\n",
       "    .dataframe tbody tr th:only-of-type {\n",
       "        vertical-align: middle;\n",
       "    }\n",
       "\n",
       "    .dataframe tbody tr th {\n",
       "        vertical-align: top;\n",
       "    }\n",
       "\n",
       "    .dataframe thead th {\n",
       "        text-align: right;\n",
       "    }\n",
       "</style>\n",
       "<table border=\"1\" class=\"dataframe\">\n",
       "  <thead>\n",
       "    <tr style=\"text-align: right;\">\n",
       "      <th></th>\n",
       "      <th>id</th>\n",
       "      <th>title</th>\n",
       "      <th>url</th>\n",
       "      <th>type</th>\n",
       "      <th>score</th>\n",
       "      <th>timestamp</th>\n",
       "      <th>len</th>\n",
       "    </tr>\n",
       "  </thead>\n",
       "  <tbody>\n",
       "    <tr>\n",
       "      <th>0</th>\n",
       "      <td>3676512</td>\n",
       "      <td>New iPad is official: 2048x1536 retina display</td>\n",
       "      <td>http://www.engadget.com/2012/03/07/the-new-ipa...</td>\n",
       "      <td>story</td>\n",
       "      <td>18</td>\n",
       "      <td>2012-03-07 18:28:01</td>\n",
       "      <td>46</td>\n",
       "    </tr>\n",
       "    <tr>\n",
       "      <th>1</th>\n",
       "      <td>22034463</td>\n",
       "      <td>The Art of Problem-Solving</td>\n",
       "      <td>https://amymhaddad.com/the-art-of-problem-solving</td>\n",
       "      <td>story</td>\n",
       "      <td>2</td>\n",
       "      <td>2020-01-13 13:57:43</td>\n",
       "      <td>26</td>\n",
       "    </tr>\n",
       "    <tr>\n",
       "      <th>2</th>\n",
       "      <td>752581</td>\n",
       "      <td>Twitter is for Old People</td>\n",
       "      <td>http://crenk.com/twitter-is-for-old-people/</td>\n",
       "      <td>story</td>\n",
       "      <td>1</td>\n",
       "      <td>2009-08-10 11:37:22</td>\n",
       "      <td>25</td>\n",
       "    </tr>\n",
       "    <tr>\n",
       "      <th>3</th>\n",
       "      <td>8176404</td>\n",
       "      <td>President Obama: No Internet Fast Lanes</td>\n",
       "      <td>http://www.nytimes.com/2014/08/14/opinion/pres...</td>\n",
       "      <td>story</td>\n",
       "      <td>2</td>\n",
       "      <td>2014-08-14 07:18:32</td>\n",
       "      <td>39</td>\n",
       "    </tr>\n",
       "    <tr>\n",
       "      <th>4</th>\n",
       "      <td>8160475</td>\n",
       "      <td>Free Photo Editing Software Lets You Manipulat...</td>\n",
       "      <td>http://reframe.gizmodo.com/free-photo-editing-...</td>\n",
       "      <td>story</td>\n",
       "      <td>2</td>\n",
       "      <td>2014-08-10 19:32:42</td>\n",
       "      <td>61</td>\n",
       "    </tr>\n",
       "  </tbody>\n",
       "</table>\n",
       "</div>"
      ],
      "text/plain": [
       "         id                                              title  \\\n",
       "0   3676512     New iPad is official: 2048x1536 retina display   \n",
       "1  22034463                         The Art of Problem-Solving   \n",
       "2    752581                          Twitter is for Old People   \n",
       "3   8176404            President Obama: No Internet Fast Lanes   \n",
       "4   8160475  Free Photo Editing Software Lets You Manipulat...   \n",
       "\n",
       "                                                 url   type  score  \\\n",
       "0  http://www.engadget.com/2012/03/07/the-new-ipa...  story     18   \n",
       "1  https://amymhaddad.com/the-art-of-problem-solving  story      2   \n",
       "2        http://crenk.com/twitter-is-for-old-people/  story      1   \n",
       "3  http://www.nytimes.com/2014/08/14/opinion/pres...  story      2   \n",
       "4  http://reframe.gizmodo.com/free-photo-editing-...  story      2   \n",
       "\n",
       "            timestamp  len  \n",
       "0 2012-03-07 18:28:01   46  \n",
       "1 2020-01-13 13:57:43   26  \n",
       "2 2009-08-10 11:37:22   25  \n",
       "3 2014-08-14 07:18:32   39  \n",
       "4 2014-08-10 19:32:42   61  "
      ]
     },
     "execution_count": 14,
     "metadata": {},
     "output_type": "execute_result"
    }
   ],
   "source": [
    "p.posts.head()"
   ]
  },
  {
   "cell_type": "code",
   "execution_count": 16,
   "metadata": {},
   "outputs": [
    {
     "data": {
      "text/plain": [
       "<matplotlib.axes._subplots.AxesSubplot at 0x12687fed0>"
      ]
     },
     "execution_count": 16,
     "metadata": {},
     "output_type": "execute_result"
    },
    {
     "data": {
      "image/png": "[encoded data removed]",
      "text/plain": [
       "<Figure size 432x288 with 1 Axes>"
      ]
     },
     "metadata": {
      "needs_background": "light"
     },
     "output_type": "display_data"
    }
   ],
   "source": [
    "p.posts.boxplot(column ='len')"
   ]
  },
  {
   "cell_type": "code",
   "execution_count": 23,
   "metadata": {},
   "outputs": [
    {
     "data": {
      "text/plain": [
       "55.337099942611836"
      ]
     },
     "execution_count": 23,
     "metadata": {},
     "output_type": "execute_result"
    }
   ],
   "source": [
    "# % of posts less than 50 words\n",
    "p.posts[p.posts.title.str.len() <= 50].shape[0] / len(p.posts) * 100 "
   ]
  },
  {
   "cell_type": "code",
   "execution_count": 27,
   "metadata": {},
   "outputs": [
    {
     "data": {
      "text/plain": [
       "93.6755043690806"
      ]
     },
     "execution_count": 27,
     "metadata": {},
     "output_type": "execute_result"
    }
   ],
   "source": [
    "# % of posts less than 75 words\n",
    "p.posts[p.posts.title.str.len() <= 75].shape[0] / len(p.posts) * 100 "
   ]
  },
  {
   "cell_type": "code",
   "execution_count": null,
   "metadata": {},
   "outputs": [],
   "source": []
  }
 ],
 "metadata": {
  "kernelspec": {
   "display_name": "Python 3",
   "language": "python",
   "name": "python3"
  },
  "language_info": {
   "codemirror_mode": {
    "name": "ipython",
    "version": 3
   },
   "file_extension": ".py",
   "mimetype": "text/x-python",
   "name": "python",
   "nbconvert_exporter": "python",
   "pygments_lexer": "ipython3",
   "version": "3.7.7"
  }
 },
 "nbformat": 4,
 "nbformat_minor": 4
}
