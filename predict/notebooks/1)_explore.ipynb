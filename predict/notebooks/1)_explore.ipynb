{
 "cells": [
  {
   "cell_type": "code",
   "execution_count": 1,
   "metadata": {},
   "outputs": [
    {
     "name": "stdout",
     "output_type": "stream",
     "text": [
      "/Users/charlesp/Documents/Projects/hacker_news_NLP_score_prediction/predict\n"
     ]
    }
   ],
   "source": [
    "cd .."
   ]
  },
  {
   "cell_type": "code",
   "execution_count": 2,
   "metadata": {},
   "outputs": [],
   "source": [
    "from process import Process"
   ]
  },
  {
   "cell_type": "code",
   "execution_count": 3,
   "metadata": {},
   "outputs": [
    {
     "name": "stderr",
     "output_type": "stream",
     "text": [
      "INFO:root:Creating connection to hn_db...\n",
      "INFO:root:Successfully connected.\n",
      "INFO:root:Retrieved posts from database\n",
      "INFO:root:Closing DB Connection.\n"
     ]
    }
   ],
   "source": [
    "p = Process()"
   ]
  },
  {
   "cell_type": "code",
   "execution_count": 4,
   "metadata": {},
   "outputs": [
    {
     "data": {
      "text/html": [
       "<div>\n",
       "<style scoped>\n",
       "    .dataframe tbody tr th:only-of-type {\n",
       "        vertical-align: middle;\n",
       "    }\n",
       "\n",
       "    .dataframe tbody tr th {\n",
       "        vertical-align: top;\n",
       "    }\n",
       "\n",
       "    .dataframe thead th {\n",
       "        text-align: right;\n",
       "    }\n",
       "</style>\n",
       "<table border=\"1\" class=\"dataframe\">\n",
       "  <thead>\n",
       "    <tr style=\"text-align: right;\">\n",
       "      <th></th>\n",
       "      <th>id</th>\n",
       "      <th>title</th>\n",
       "      <th>url</th>\n",
       "      <th>type</th>\n",
       "      <th>score</th>\n",
       "      <th>timestamp</th>\n",
       "    </tr>\n",
       "  </thead>\n",
       "  <tbody>\n",
       "    <tr>\n",
       "      <th>0</th>\n",
       "      <td>3676512</td>\n",
       "      <td>New iPad is official: 2048x1536 retina display</td>\n",
       "      <td>http://www.engadget.com/2012/03/07/the-new-ipa...</td>\n",
       "      <td>story</td>\n",
       "      <td>18</td>\n",
       "      <td>2012-03-07 18:28:01</td>\n",
       "    </tr>\n",
       "    <tr>\n",
       "      <th>1</th>\n",
       "      <td>22034463</td>\n",
       "      <td>The Art of Problem-Solving</td>\n",
       "      <td>https://amymhaddad.com/the-art-of-problem-solving</td>\n",
       "      <td>story</td>\n",
       "      <td>2</td>\n",
       "      <td>2020-01-13 13:57:43</td>\n",
       "    </tr>\n",
       "    <tr>\n",
       "      <th>2</th>\n",
       "      <td>752581</td>\n",
       "      <td>Twitter is for Old People</td>\n",
       "      <td>http://crenk.com/twitter-is-for-old-people/</td>\n",
       "      <td>story</td>\n",
       "      <td>1</td>\n",
       "      <td>2009-08-10 11:37:22</td>\n",
       "    </tr>\n",
       "    <tr>\n",
       "      <th>3</th>\n",
       "      <td>8176404</td>\n",
       "      <td>President Obama: No Internet Fast Lanes</td>\n",
       "      <td>http://www.nytimes.com/2014/08/14/opinion/pres...</td>\n",
       "      <td>story</td>\n",
       "      <td>2</td>\n",
       "      <td>2014-08-14 07:18:32</td>\n",
       "    </tr>\n",
       "    <tr>\n",
       "      <th>4</th>\n",
       "      <td>8160475</td>\n",
       "      <td>Free Photo Editing Software Lets You Manipulat...</td>\n",
       "      <td>http://reframe.gizmodo.com/free-photo-editing-...</td>\n",
       "      <td>story</td>\n",
       "      <td>2</td>\n",
       "      <td>2014-08-10 19:32:42</td>\n",
       "    </tr>\n",
       "  </tbody>\n",
       "</table>\n",
       "</div>"
      ],
      "text/plain": [
       "         id                                              title  \\\n",
       "0   3676512     New iPad is official: 2048x1536 retina display   \n",
       "1  22034463                         The Art of Problem-Solving   \n",
       "2    752581                          Twitter is for Old People   \n",
       "3   8176404            President Obama: No Internet Fast Lanes   \n",
       "4   8160475  Free Photo Editing Software Lets You Manipulat...   \n",
       "\n",
       "                                                 url   type  score  \\\n",
       "0  http://www.engadget.com/2012/03/07/the-new-ipa...  story     18   \n",
       "1  https://amymhaddad.com/the-art-of-problem-solving  story      2   \n",
       "2        http://crenk.com/twitter-is-for-old-people/  story      1   \n",
       "3  http://www.nytimes.com/2014/08/14/opinion/pres...  story      2   \n",
       "4  http://reframe.gizmodo.com/free-photo-editing-...  story      2   \n",
       "\n",
       "            timestamp  \n",
       "0 2012-03-07 18:28:01  \n",
       "1 2020-01-13 13:57:43  \n",
       "2 2009-08-10 11:37:22  \n",
       "3 2014-08-14 07:18:32  \n",
       "4 2014-08-10 19:32:42  "
      ]
     },
     "execution_count": 4,
     "metadata": {},
     "output_type": "execute_result"
    }
   ],
   "source": [
    "p.posts.head()"
   ]
  },
  {
   "cell_type": "code",
   "execution_count": 5,
   "metadata": {},
   "outputs": [
    {
     "name": "stdout",
     "output_type": "stream",
     "text": [
      "<class 'pandas.core.frame.DataFrame'>\n",
      "RangeIndex: 3509434 entries, 0 to 3509433\n",
      "Data columns (total 6 columns):\n",
      " #   Column     Dtype         \n",
      "---  ------     -----         \n",
      " 0   id         Int64         \n",
      " 1   title      string        \n",
      " 2   url        string        \n",
      " 3   type       string        \n",
      " 4   score      Int64         \n",
      " 5   timestamp  datetime64[ns]\n",
      "dtypes: Int64(2), datetime64[ns](1), string(3)\n",
      "memory usage: 167.3 MB\n"
     ]
    }
   ],
   "source": [
    "p.posts.info()"
   ]
  },
  {
   "cell_type": "markdown",
   "metadata": {},
   "source": [
    "## What's The Average Length Of A Post ?\n",
    "This will inform our custom initialization of the model's block size. Hacker News has a general 80 word limit on all of it's posts but many posts might come in lower than this on average. "
   ]
  },
  {
   "cell_type": "code",
   "execution_count": 6,
   "metadata": {},
   "outputs": [],
   "source": [
    "p.posts['len'] = p.posts.title.str.len()"
   ]
  },
  {
   "cell_type": "code",
   "execution_count": 7,
   "metadata": {},
   "outputs": [
    {
     "data": {
      "text/html": [
       "<div>\n",
       "<style scoped>\n",
       "    .dataframe tbody tr th:only-of-type {\n",
       "        vertical-align: middle;\n",
       "    }\n",
       "\n",
       "    .dataframe tbody tr th {\n",
       "        vertical-align: top;\n",
       "    }\n",
       "\n",
       "    .dataframe thead th {\n",
       "        text-align: right;\n",
       "    }\n",
       "</style>\n",
       "<table border=\"1\" class=\"dataframe\">\n",
       "  <thead>\n",
       "    <tr style=\"text-align: right;\">\n",
       "      <th></th>\n",
       "      <th>id</th>\n",
       "      <th>title</th>\n",
       "      <th>url</th>\n",
       "      <th>type</th>\n",
       "      <th>score</th>\n",
       "      <th>timestamp</th>\n",
       "      <th>len</th>\n",
       "    </tr>\n",
       "  </thead>\n",
       "  <tbody>\n",
       "    <tr>\n",
       "      <th>0</th>\n",
       "      <td>3676512</td>\n",
       "      <td>New iPad is official: 2048x1536 retina display</td>\n",
       "      <td>http://www.engadget.com/2012/03/07/the-new-ipa...</td>\n",
       "      <td>story</td>\n",
       "      <td>18</td>\n",
       "      <td>2012-03-07 18:28:01</td>\n",
       "      <td>46</td>\n",
       "    </tr>\n",
       "    <tr>\n",
       "      <th>1</th>\n",
       "      <td>22034463</td>\n",
       "      <td>The Art of Problem-Solving</td>\n",
       "      <td>https://amymhaddad.com/the-art-of-problem-solving</td>\n",
       "      <td>story</td>\n",
       "      <td>2</td>\n",
       "      <td>2020-01-13 13:57:43</td>\n",
       "      <td>26</td>\n",
       "    </tr>\n",
       "    <tr>\n",
       "      <th>2</th>\n",
       "      <td>752581</td>\n",
       "      <td>Twitter is for Old People</td>\n",
       "      <td>http://crenk.com/twitter-is-for-old-people/</td>\n",
       "      <td>story</td>\n",
       "      <td>1</td>\n",
       "      <td>2009-08-10 11:37:22</td>\n",
       "      <td>25</td>\n",
       "    </tr>\n",
       "    <tr>\n",
       "      <th>3</th>\n",
       "      <td>8176404</td>\n",
       "      <td>President Obama: No Internet Fast Lanes</td>\n",
       "      <td>http://www.nytimes.com/2014/08/14/opinion/pres...</td>\n",
       "      <td>story</td>\n",
       "      <td>2</td>\n",
       "      <td>2014-08-14 07:18:32</td>\n",
       "      <td>39</td>\n",
       "    </tr>\n",
       "    <tr>\n",
       "      <th>4</th>\n",
       "      <td>8160475</td>\n",
       "      <td>Free Photo Editing Software Lets You Manipulat...</td>\n",
       "      <td>http://reframe.gizmodo.com/free-photo-editing-...</td>\n",
       "      <td>story</td>\n",
       "      <td>2</td>\n",
       "      <td>2014-08-10 19:32:42</td>\n",
       "      <td>61</td>\n",
       "    </tr>\n",
       "  </tbody>\n",
       "</table>\n",
       "</div>"
      ],
      "text/plain": [
       "         id                                              title  \\\n",
       "0   3676512     New iPad is official: 2048x1536 retina display   \n",
       "1  22034463                         The Art of Problem-Solving   \n",
       "2    752581                          Twitter is for Old People   \n",
       "3   8176404            President Obama: No Internet Fast Lanes   \n",
       "4   8160475  Free Photo Editing Software Lets You Manipulat...   \n",
       "\n",
       "                                                 url   type  score  \\\n",
       "0  http://www.engadget.com/2012/03/07/the-new-ipa...  story     18   \n",
       "1  https://amymhaddad.com/the-art-of-problem-solving  story      2   \n",
       "2        http://crenk.com/twitter-is-for-old-people/  story      1   \n",
       "3  http://www.nytimes.com/2014/08/14/opinion/pres...  story      2   \n",
       "4  http://reframe.gizmodo.com/free-photo-editing-...  story      2   \n",
       "\n",
       "            timestamp  len  \n",
       "0 2012-03-07 18:28:01   46  \n",
       "1 2020-01-13 13:57:43   26  \n",
       "2 2009-08-10 11:37:22   25  \n",
       "3 2014-08-14 07:18:32   39  \n",
       "4 2014-08-10 19:32:42   61  "
      ]
     },
     "execution_count": 7,
     "metadata": {},
     "output_type": "execute_result"
    }
   ],
   "source": [
    "p.posts.head()"
   ]
  },
  {
   "cell_type": "code",
   "execution_count": 9,
   "metadata": {},
   "outputs": [
    {
     "data": {
      "text/plain": [
       "<matplotlib.axes._subplots.AxesSubplot at 0x123e57dd0>"
      ]
     },
     "execution_count": 9,
     "metadata": {},
     "output_type": "execute_result"
    },
    {
     "data": {
      "image/png": "[encoded data removed]",
      "text/plain": [
       "<Figure size 432x288 with 1 Axes>"
      ]
     },
     "metadata": {
      "needs_background": "light"
     },
     "output_type": "display_data"
    }
   ],
   "source": [
    "p.posts.boxplot(column ='len')"
   ]
  },
  {
   "cell_type": "code",
   "execution_count": 10,
   "metadata": {},
   "outputs": [
    {
     "data": {
      "text/plain": [
       "<matplotlib.axes._subplots.AxesSubplot at 0x123d89b50>"
      ]
     },
     "execution_count": 10,
     "metadata": {},
     "output_type": "execute_result"
    },
    {
     "data": {
      "image/png": "[encoded data removed]",
      "text/plain": [
       "<Figure size 720x360 with 1 Axes>"
      ]
     },
     "metadata": {
      "needs_background": "light"
     },
     "output_type": "display_data"
    }
   ],
   "source": [
    "p.posts.len.plot.hist(figsize=(10,5),bins=200)"
   ]
  },
  {
   "cell_type": "code",
   "execution_count": 11,
   "metadata": {},
   "outputs": [
    {
     "name": "stdout",
     "output_type": "stream",
     "text": [
      "% of posts less than or equal to 50 words is 55.337099942611836%\n",
      "% of posts less than or equal to 55 words is 64.76474554016403%\n",
      "% of posts less than or equal to 60 words is 73.58377447759382%\n",
      "% of posts less than or equal to 65 words is 81.26264805093926%\n",
      "% of posts less than or equal to 70 words is 87.88018238838514%\n",
      "% of posts less than or equal to 75 words is 93.6755043690806%\n",
      "% of posts less than or equal to 80 words is 99.67325215405106%\n",
      "% of posts less than or equal to 85 words is 99.89123602267487%\n",
      "% of posts less than or equal to 90 words is 99.95594731230165%\n",
      "% of posts less than or equal to 95 words is 99.9732435486748%\n"
     ]
    }
   ],
   "source": [
    "for i in range(50,100,5):\n",
    "    word_perc = p.posts[p.posts.title.str.len() <= i].shape[0] / len(p.posts) * 100\n",
    "    print(f\"% of posts less than or equal to {i} words is {word_perc}%\")"
   ]
  },
  {
   "cell_type": "markdown",
   "metadata": {},
   "source": [
    "# Prepend Domains to Every Post Title\n",
    "Along with the text of posts there is also a strong chance that there will be a domain attached as the source of the link. These domains themselves might contain useful information as how succesful a post will be e.g. A post discussing data science from Medium.com does generally does well. \n",
    "\n",
    "To account for this I'm going to prepend every post title with the domain from which it came. "
   ]
  },
  {
   "cell_type": "code",
   "execution_count": 32,
   "metadata": {},
   "outputs": [],
   "source": [
    "def prepend_domain_name(r):\n",
    "    url = r.url\n",
    "    if url == \"empty\":\n",
    "        r.title = \"empty :- \" + r.title\n",
    "        return r.title\n",
    "    else:\n",
    "        domain = Process.extract_domain(url)\n",
    "        r.title = domain.domain + \" :- \" + r.title\n",
    "        return r.title\n",
    "        \n",
    "    "
   ]
  },
  {
   "cell_type": "code",
   "execution_count": 33,
   "metadata": {},
   "outputs": [
    {
     "data": {
      "text/plain": [
       "empty                                            216338\n",
       "https://news.ycombinator.com/bookmarklet.html      1755\n",
       "http://ycombinator.com/bookmarklet.html             695\n",
       "http://www.ezy-bid.com                              197\n",
       "https://www.easypost.com/jobs                       177\n",
       "                                                  ...  \n",
       "                                                     31\n",
       "http://www.beautiful-legs-again.com/                 31\n",
       "http://mlhelper.luoxia.me:8080                       31\n",
       "https://www.fsf.org/                                 31\n",
       "http://www.abudhabi-sex.com/                         30\n",
       "Name: url, Length: 100, dtype: Int64"
      ]
     },
     "execution_count": 33,
     "metadata": {},
     "output_type": "execute_result"
    }
   ],
   "source": [
    "p.posts.url.value_counts()[0:100]"
   ]
  },
  {
   "cell_type": "code",
   "execution_count": 19,
   "metadata": {},
   "outputs": [],
   "source": [
    "import tqdm"
   ]
  },
  {
   "cell_type": "code",
   "execution_count": 26,
   "metadata": {},
   "outputs": [],
   "source": [
    "temp_posts = p.posts[:10_000]"
   ]
  },
  {
   "cell_type": "code",
   "execution_count": 34,
   "metadata": {},
   "outputs": [],
   "source": [
    "p.posts['title'] = p.posts.apply(prepend_domain_name, axis= 1)"
   ]
  },
  {
   "cell_type": "code",
   "execution_count": 38,
   "metadata": {},
   "outputs": [
    {
     "data": {
      "text/html": [
       "<div>\n",
       "<style scoped>\n",
       "    .dataframe tbody tr th:only-of-type {\n",
       "        vertical-align: middle;\n",
       "    }\n",
       "\n",
       "    .dataframe tbody tr th {\n",
       "        vertical-align: top;\n",
       "    }\n",
       "\n",
       "    .dataframe thead th {\n",
       "        text-align: right;\n",
       "    }\n",
       "</style>\n",
       "<table border=\"1\" class=\"dataframe\">\n",
       "  <thead>\n",
       "    <tr style=\"text-align: right;\">\n",
       "      <th></th>\n",
       "      <th>id</th>\n",
       "      <th>title</th>\n",
       "      <th>url</th>\n",
       "      <th>type</th>\n",
       "      <th>score</th>\n",
       "      <th>timestamp</th>\n",
       "      <th>len</th>\n",
       "    </tr>\n",
       "  </thead>\n",
       "  <tbody>\n",
       "    <tr>\n",
       "      <th>0</th>\n",
       "      <td>3676512</td>\n",
       "      <td>engadget :- New iPad is official: 2048x1536 re...</td>\n",
       "      <td>http://www.engadget.com/2012/03/07/the-new-ipa...</td>\n",
       "      <td>story</td>\n",
       "      <td>18</td>\n",
       "      <td>2012-03-07 18:28:01</td>\n",
       "      <td>46</td>\n",
       "    </tr>\n",
       "    <tr>\n",
       "      <th>1</th>\n",
       "      <td>22034463</td>\n",
       "      <td>amymhaddad :- The Art of Problem-Solving</td>\n",
       "      <td>https://amymhaddad.com/the-art-of-problem-solving</td>\n",
       "      <td>story</td>\n",
       "      <td>2</td>\n",
       "      <td>2020-01-13 13:57:43</td>\n",
       "      <td>26</td>\n",
       "    </tr>\n",
       "    <tr>\n",
       "      <th>2</th>\n",
       "      <td>752581</td>\n",
       "      <td>crenk :- Twitter is for Old People</td>\n",
       "      <td>http://crenk.com/twitter-is-for-old-people/</td>\n",
       "      <td>story</td>\n",
       "      <td>1</td>\n",
       "      <td>2009-08-10 11:37:22</td>\n",
       "      <td>25</td>\n",
       "    </tr>\n",
       "    <tr>\n",
       "      <th>3</th>\n",
       "      <td>8176404</td>\n",
       "      <td>nytimes :- President Obama: No Internet Fast L...</td>\n",
       "      <td>http://www.nytimes.com/2014/08/14/opinion/pres...</td>\n",
       "      <td>story</td>\n",
       "      <td>2</td>\n",
       "      <td>2014-08-14 07:18:32</td>\n",
       "      <td>39</td>\n",
       "    </tr>\n",
       "    <tr>\n",
       "      <th>4</th>\n",
       "      <td>8160475</td>\n",
       "      <td>gizmodo :- Free Photo Editing Software Lets Yo...</td>\n",
       "      <td>http://reframe.gizmodo.com/free-photo-editing-...</td>\n",
       "      <td>story</td>\n",
       "      <td>2</td>\n",
       "      <td>2014-08-10 19:32:42</td>\n",
       "      <td>61</td>\n",
       "    </tr>\n",
       "    <tr>\n",
       "      <th>5</th>\n",
       "      <td>2532794</td>\n",
       "      <td>victusspiritus :- Duostack vs Nodester Node.js...</td>\n",
       "      <td>http://www.victusspiritus.com/2011/05/10/duost...</td>\n",
       "      <td>story</td>\n",
       "      <td>1</td>\n",
       "      <td>2011-05-10 15:31:10</td>\n",
       "      <td>46</td>\n",
       "    </tr>\n",
       "    <tr>\n",
       "      <th>6</th>\n",
       "      <td>1187681</td>\n",
       "      <td>zpub :- In Praise of Idleness</td>\n",
       "      <td>http://www.zpub.com/notes/idle.html</td>\n",
       "      <td>story</td>\n",
       "      <td>26</td>\n",
       "      <td>2010-03-12 20:15:35</td>\n",
       "      <td>21</td>\n",
       "    </tr>\n",
       "    <tr>\n",
       "      <th>7</th>\n",
       "      <td>6733429</td>\n",
       "      <td>freebeacon :- Court: Homeland Security Must Di...</td>\n",
       "      <td>http://freebeacon.com/court-homeland-security-...</td>\n",
       "      <td>story</td>\n",
       "      <td>2</td>\n",
       "      <td>2013-11-14 16:58:22</td>\n",
       "      <td>61</td>\n",
       "    </tr>\n",
       "    <tr>\n",
       "      <th>8</th>\n",
       "      <td>14420226</td>\n",
       "      <td>erickarjaluoto :- Don’t Be a Crehater</td>\n",
       "      <td>http://www.erickarjaluoto.com/blog/dont-be-a-c...</td>\n",
       "      <td>story</td>\n",
       "      <td>1</td>\n",
       "      <td>2017-05-25 21:20:37</td>\n",
       "      <td>19</td>\n",
       "    </tr>\n",
       "    <tr>\n",
       "      <th>9</th>\n",
       "      <td>12589532</td>\n",
       "      <td>time :- Unsafe Air-Pollution Levels Affect 9 i...</td>\n",
       "      <td>http://time.com/4508028/air-pollution-global-h...</td>\n",
       "      <td>story</td>\n",
       "      <td>5</td>\n",
       "      <td>2016-09-27 13:47:52</td>\n",
       "      <td>58</td>\n",
       "    </tr>\n",
       "  </tbody>\n",
       "</table>\n",
       "</div>"
      ],
      "text/plain": [
       "         id                                              title  \\\n",
       "0   3676512  engadget :- New iPad is official: 2048x1536 re...   \n",
       "1  22034463           amymhaddad :- The Art of Problem-Solving   \n",
       "2    752581                 crenk :- Twitter is for Old People   \n",
       "3   8176404  nytimes :- President Obama: No Internet Fast L...   \n",
       "4   8160475  gizmodo :- Free Photo Editing Software Lets Yo...   \n",
       "5   2532794  victusspiritus :- Duostack vs Nodester Node.js...   \n",
       "6   1187681                      zpub :- In Praise of Idleness   \n",
       "7   6733429  freebeacon :- Court: Homeland Security Must Di...   \n",
       "8  14420226              erickarjaluoto :- Don’t Be a Crehater   \n",
       "9  12589532  time :- Unsafe Air-Pollution Levels Affect 9 i...   \n",
       "\n",
       "                                                 url   type  score  \\\n",
       "0  http://www.engadget.com/2012/03/07/the-new-ipa...  story     18   \n",
       "1  https://amymhaddad.com/the-art-of-problem-solving  story      2   \n",
       "2        http://crenk.com/twitter-is-for-old-people/  story      1   \n",
       "3  http://www.nytimes.com/2014/08/14/opinion/pres...  story      2   \n",
       "4  http://reframe.gizmodo.com/free-photo-editing-...  story      2   \n",
       "5  http://www.victusspiritus.com/2011/05/10/duost...  story      1   \n",
       "6                http://www.zpub.com/notes/idle.html  story     26   \n",
       "7  http://freebeacon.com/court-homeland-security-...  story      2   \n",
       "8  http://www.erickarjaluoto.com/blog/dont-be-a-c...  story      1   \n",
       "9  http://time.com/4508028/air-pollution-global-h...  story      5   \n",
       "\n",
       "            timestamp  len  \n",
       "0 2012-03-07 18:28:01   46  \n",
       "1 2020-01-13 13:57:43   26  \n",
       "2 2009-08-10 11:37:22   25  \n",
       "3 2014-08-14 07:18:32   39  \n",
       "4 2014-08-10 19:32:42   61  \n",
       "5 2011-05-10 15:31:10   46  \n",
       "6 2010-03-12 20:15:35   21  \n",
       "7 2013-11-14 16:58:22   61  \n",
       "8 2017-05-25 21:20:37   19  \n",
       "9 2016-09-27 13:47:52   58  "
      ]
     },
     "execution_count": 38,
     "metadata": {},
     "output_type": "execute_result"
    }
   ],
   "source": [
    "p.posts.head(10)"
   ]
  },
  {
   "cell_type": "code",
   "execution_count": 42,
   "metadata": {},
   "outputs": [],
   "source": [
    "from string import punctuation\n"
   ]
  },
  {
   "cell_type": "code",
   "execution_count": 43,
   "metadata": {},
   "outputs": [],
   "source": [
    "def remove_punctuation(s):\n",
    "        \"Must come first\"\n",
    "        return s.translate(str.maketrans('', '', punctuation))"
   ]
  },
  {
   "cell_type": "code",
   "execution_count": 48,
   "metadata": {},
   "outputs": [],
   "source": [
    "def title_to_lower(s):\n",
    "    return s.lower()"
   ]
  },
  {
   "cell_type": "code",
   "execution_count": 49,
   "metadata": {},
   "outputs": [],
   "source": [
    "p.posts['title'] = p.posts['title'].apply(title_to_lower)"
   ]
  },
  {
   "cell_type": "code",
   "execution_count": 44,
   "metadata": {},
   "outputs": [],
   "source": [
    "p.posts['title'] = p.posts['title'].apply(remove_punctuation)"
   ]
  },
  {
   "cell_type": "code",
   "execution_count": 50,
   "metadata": {},
   "outputs": [
    {
     "data": {
      "text/html": [
       "<div>\n",
       "<style scoped>\n",
       "    .dataframe tbody tr th:only-of-type {\n",
       "        vertical-align: middle;\n",
       "    }\n",
       "\n",
       "    .dataframe tbody tr th {\n",
       "        vertical-align: top;\n",
       "    }\n",
       "\n",
       "    .dataframe thead th {\n",
       "        text-align: right;\n",
       "    }\n",
       "</style>\n",
       "<table border=\"1\" class=\"dataframe\">\n",
       "  <thead>\n",
       "    <tr style=\"text-align: right;\">\n",
       "      <th></th>\n",
       "      <th>id</th>\n",
       "      <th>title</th>\n",
       "      <th>url</th>\n",
       "      <th>type</th>\n",
       "      <th>score</th>\n",
       "      <th>timestamp</th>\n",
       "      <th>len</th>\n",
       "    </tr>\n",
       "  </thead>\n",
       "  <tbody>\n",
       "    <tr>\n",
       "      <th>0</th>\n",
       "      <td>3676512</td>\n",
       "      <td>engadget  new ipad is official 2048x1536 retin...</td>\n",
       "      <td>http://www.engadget.com/2012/03/07/the-new-ipa...</td>\n",
       "      <td>story</td>\n",
       "      <td>18</td>\n",
       "      <td>2012-03-07 18:28:01</td>\n",
       "      <td>46</td>\n",
       "    </tr>\n",
       "    <tr>\n",
       "      <th>1</th>\n",
       "      <td>22034463</td>\n",
       "      <td>amymhaddad  the art of problemsolving</td>\n",
       "      <td>https://amymhaddad.com/the-art-of-problem-solving</td>\n",
       "      <td>story</td>\n",
       "      <td>2</td>\n",
       "      <td>2020-01-13 13:57:43</td>\n",
       "      <td>26</td>\n",
       "    </tr>\n",
       "    <tr>\n",
       "      <th>2</th>\n",
       "      <td>752581</td>\n",
       "      <td>crenk  twitter is for old people</td>\n",
       "      <td>http://crenk.com/twitter-is-for-old-people/</td>\n",
       "      <td>story</td>\n",
       "      <td>1</td>\n",
       "      <td>2009-08-10 11:37:22</td>\n",
       "      <td>25</td>\n",
       "    </tr>\n",
       "    <tr>\n",
       "      <th>3</th>\n",
       "      <td>8176404</td>\n",
       "      <td>nytimes  president obama no internet fast lanes</td>\n",
       "      <td>http://www.nytimes.com/2014/08/14/opinion/pres...</td>\n",
       "      <td>story</td>\n",
       "      <td>2</td>\n",
       "      <td>2014-08-14 07:18:32</td>\n",
       "      <td>39</td>\n",
       "    </tr>\n",
       "    <tr>\n",
       "      <th>4</th>\n",
       "      <td>8160475</td>\n",
       "      <td>gizmodo  free photo editing software lets you ...</td>\n",
       "      <td>http://reframe.gizmodo.com/free-photo-editing-...</td>\n",
       "      <td>story</td>\n",
       "      <td>2</td>\n",
       "      <td>2014-08-10 19:32:42</td>\n",
       "      <td>61</td>\n",
       "    </tr>\n",
       "  </tbody>\n",
       "</table>\n",
       "</div>"
      ],
      "text/plain": [
       "         id                                              title  \\\n",
       "0   3676512  engadget  new ipad is official 2048x1536 retin...   \n",
       "1  22034463              amymhaddad  the art of problemsolving   \n",
       "2    752581                   crenk  twitter is for old people   \n",
       "3   8176404    nytimes  president obama no internet fast lanes   \n",
       "4   8160475  gizmodo  free photo editing software lets you ...   \n",
       "\n",
       "                                                 url   type  score  \\\n",
       "0  http://www.engadget.com/2012/03/07/the-new-ipa...  story     18   \n",
       "1  https://amymhaddad.com/the-art-of-problem-solving  story      2   \n",
       "2        http://crenk.com/twitter-is-for-old-people/  story      1   \n",
       "3  http://www.nytimes.com/2014/08/14/opinion/pres...  story      2   \n",
       "4  http://reframe.gizmodo.com/free-photo-editing-...  story      2   \n",
       "\n",
       "            timestamp  len  \n",
       "0 2012-03-07 18:28:01   46  \n",
       "1 2020-01-13 13:57:43   26  \n",
       "2 2009-08-10 11:37:22   25  \n",
       "3 2014-08-14 07:18:32   39  \n",
       "4 2014-08-10 19:32:42   61  "
      ]
     },
     "execution_count": 50,
     "metadata": {},
     "output_type": "execute_result"
    }
   ],
   "source": [
    "p.posts.head()"
   ]
  },
  {
   "cell_type": "markdown",
   "metadata": {},
   "source": [
    "# Analysing Scores\n",
    "We are going to be trying to predict scores. It will be useful here to look at how scores are distributed, and what the average/mean and median score are. This will help us establish a simple baseline model that predicts the average each time. "
   ]
  },
  {
   "cell_type": "code",
   "execution_count": 6,
   "metadata": {},
   "outputs": [],
   "source": [
    "import pandas as pd"
   ]
  },
  {
   "cell_type": "code",
   "execution_count": 7,
   "metadata": {},
   "outputs": [],
   "source": [
    "pd.options.display.float_format = \"{:.2f}\".format"
   ]
  },
  {
   "cell_type": "code",
   "execution_count": 8,
   "metadata": {},
   "outputs": [
    {
     "data": {
      "text/plain": [
       "count   3509434.00\n",
       "mean         11.96\n",
       "std          51.16\n",
       "min          -1.00\n",
       "25%           1.00\n",
       "50%           2.00\n",
       "75%           3.00\n",
       "max        6015.00\n",
       "Name: score, dtype: float64"
      ]
     },
     "execution_count": 8,
     "metadata": {},
     "output_type": "execute_result"
    }
   ],
   "source": [
    "p.posts.score.describe()"
   ]
  },
  {
   "cell_type": "code",
   "execution_count": 9,
   "metadata": {},
   "outputs": [],
   "source": [
    "import numpy as np"
   ]
  },
  {
   "cell_type": "code",
   "execution_count": 10,
   "metadata": {},
   "outputs": [
    {
     "data": {
      "text/plain": [
       "count   3509434.00\n",
       "mean          1.64\n",
       "std           0.95\n",
       "min           0.00\n",
       "25%           1.10\n",
       "50%           1.39\n",
       "75%           1.61\n",
       "max           8.70\n",
       "Name: score, dtype: float64"
      ]
     },
     "execution_count": 10,
     "metadata": {},
     "output_type": "execute_result"
    }
   ],
   "source": [
    "helpful_log = np.log(p.posts.score+2 )\n",
    "helpful_log.describe()"
   ]
  },
  {
   "cell_type": "code",
   "execution_count": 35,
   "metadata": {},
   "outputs": [],
   "source": [
    "helpful_log = np.log(p.posts[p.posts.score>1].score)"
   ]
  },
  {
   "cell_type": "code",
   "execution_count": 39,
   "metadata": {},
   "outputs": [
    {
     "data": {
      "text/plain": [
       "<matplotlib.axes._subplots.AxesSubplot at 0x1407a2990>"
      ]
     },
     "execution_count": 39,
     "metadata": {},
     "output_type": "execute_result"
    },
    {
     "data": {
      "image/png": "[encoded data removed]",
      "text/plain": [
       "<Figure size 432x288 with 1 Axes>"
      ]
     },
     "metadata": {
      "needs_background": "light"
     },
     "output_type": "display_data"
    }
   ],
   "source": [
    "helpful_log.plot.box()"
   ]
  },
  {
   "cell_type": "code",
   "execution_count": 37,
   "metadata": {},
   "outputs": [
    {
     "data": {
      "text/plain": [
       "count   1834106.00\n",
       "mean          3.16\n",
       "std           3.46\n",
       "min           1.41\n",
       "25%           1.41\n",
       "50%           1.73\n",
       "75%           3.00\n",
       "max          77.56\n",
       "Name: score, dtype: float64"
      ]
     },
     "execution_count": 37,
     "metadata": {},
     "output_type": "execute_result"
    }
   ],
   "source": [
    "square_root_scores = np.sqrt(p.posts[p.posts.score>1].score)\n",
    "square_root_scores.describe()"
   ]
  },
  {
   "cell_type": "code",
   "execution_count": 38,
   "metadata": {},
   "outputs": [
    {
     "data": {
      "text/plain": [
       "<matplotlib.axes._subplots.AxesSubplot at 0x1418b45d0>"
      ]
     },
     "execution_count": 38,
     "metadata": {},
     "output_type": "execute_result"
    },
    {
     "data": {
      "image/png": "[encoded data removed]",
      "text/plain": [
       "<Figure size 432x288 with 1 Axes>"
      ]
     },
     "metadata": {
      "needs_background": "light"
     },
     "output_type": "display_data"
    }
   ],
   "source": [
    "square_root_scores.plot.hist(bins=100)"
   ]
  },
  {
   "cell_type": "code",
   "execution_count": 96,
   "metadata": {},
   "outputs": [
    {
     "data": {
      "text/plain": [
       "<matplotlib.axes._subplots.AxesSubplot at 0x169346050>"
      ]
     },
     "execution_count": 96,
     "metadata": {},
     "output_type": "execute_result"
    },
    {
     "data": {
      "image/png": "[encoded data removed]",
      "text/plain": [
       "<Figure size 432x288 with 1 Axes>"
      ]
     },
     "metadata": {
      "needs_background": "light"
     },
     "output_type": "display_data"
    }
   ],
   "source": [
    "helpful_log.plot.box()"
   ]
  },
  {
   "cell_type": "code",
   "execution_count": 53,
   "metadata": {},
   "outputs": [
    {
     "data": {
      "text/plain": [
       "Index(['id', 'title', 'url', 'type', 'score', 'timestamp'], dtype='object')"
      ]
     },
     "execution_count": 53,
     "metadata": {},
     "output_type": "execute_result"
    }
   ],
   "source": [
    "p.posts.columns"
   ]
  },
  {
   "cell_type": "code",
   "execution_count": 21,
   "metadata": {},
   "outputs": [],
   "source": [
    "from scipy import stats"
   ]
  },
  {
   "cell_type": "code",
   "execution_count": 42,
   "metadata": {},
   "outputs": [
    {
     "ename": "TypeError",
     "evalue": "loop of ufunc does not support argument 0 of type int which has no callable log method",
     "output_type": "error",
     "traceback": [
      "\u001b[0;31m---------------------------------------------------------------------------\u001b[0m",
      "\u001b[0;31mAttributeError\u001b[0m                            Traceback (most recent call last)",
      "\u001b[0;31mAttributeError\u001b[0m: 'int' object has no attribute 'log'",
      "\nThe above exception was the direct cause of the following exception:\n",
      "\u001b[0;31mTypeError\u001b[0m                                 Traceback (most recent call last)",
      "\u001b[0;32m<ipython-input-42-9d14b3f0c183>\u001b[0m in \u001b[0;36m<module>\u001b[0;34m\u001b[0m\n\u001b[0;32m----> 1\u001b[0;31m \u001b[0mbox_cox_scores\u001b[0m \u001b[0;34m=\u001b[0m \u001b[0mstats\u001b[0m\u001b[0;34m.\u001b[0m\u001b[0mboxcox\u001b[0m\u001b[0;34m(\u001b[0m\u001b[0mp\u001b[0m\u001b[0;34m.\u001b[0m\u001b[0mposts\u001b[0m\u001b[0;34m[\u001b[0m\u001b[0mp\u001b[0m\u001b[0;34m.\u001b[0m\u001b[0mposts\u001b[0m\u001b[0;34m.\u001b[0m\u001b[0mscore\u001b[0m\u001b[0;34m>\u001b[0m\u001b[0;36m1\u001b[0m\u001b[0;34m]\u001b[0m\u001b[0;34m.\u001b[0m\u001b[0mscore\u001b[0m\u001b[0;34m)\u001b[0m\u001b[0;34m\u001b[0m\u001b[0;34m\u001b[0m\u001b[0m\n\u001b[0m",
      "\u001b[0;32m~/anaconda3/envs/revolut/lib/python3.7/site-packages/scipy/stats/morestats.py\u001b[0m in \u001b[0;36mboxcox\u001b[0;34m(x, lmbda, alpha)\u001b[0m\n\u001b[1;32m   1049\u001b[0m \u001b[0;34m\u001b[0m\u001b[0m\n\u001b[1;32m   1050\u001b[0m     \u001b[0;31m# If lmbda=None, find the lmbda that maximizes the log-likelihood function.\u001b[0m\u001b[0;34m\u001b[0m\u001b[0;34m\u001b[0m\u001b[0;34m\u001b[0m\u001b[0m\n\u001b[0;32m-> 1051\u001b[0;31m     \u001b[0mlmax\u001b[0m \u001b[0;34m=\u001b[0m \u001b[0mboxcox_normmax\u001b[0m\u001b[0;34m(\u001b[0m\u001b[0mx\u001b[0m\u001b[0;34m,\u001b[0m \u001b[0mmethod\u001b[0m\u001b[0;34m=\u001b[0m\u001b[0;34m'mle'\u001b[0m\u001b[0;34m)\u001b[0m\u001b[0;34m\u001b[0m\u001b[0;34m\u001b[0m\u001b[0m\n\u001b[0m\u001b[1;32m   1052\u001b[0m     \u001b[0my\u001b[0m \u001b[0;34m=\u001b[0m \u001b[0mboxcox\u001b[0m\u001b[0;34m(\u001b[0m\u001b[0mx\u001b[0m\u001b[0;34m,\u001b[0m \u001b[0mlmax\u001b[0m\u001b[0;34m)\u001b[0m\u001b[0;34m\u001b[0m\u001b[0;34m\u001b[0m\u001b[0m\n\u001b[1;32m   1053\u001b[0m \u001b[0;34m\u001b[0m\u001b[0m\n",
      "\u001b[0;32m~/anaconda3/envs/revolut/lib/python3.7/site-packages/scipy/stats/morestats.py\u001b[0m in \u001b[0;36mboxcox_normmax\u001b[0;34m(x, brack, method)\u001b[0m\n\u001b[1;32m   1163\u001b[0m \u001b[0;34m\u001b[0m\u001b[0m\n\u001b[1;32m   1164\u001b[0m     \u001b[0moptimfunc\u001b[0m \u001b[0;34m=\u001b[0m \u001b[0mmethods\u001b[0m\u001b[0;34m[\u001b[0m\u001b[0mmethod\u001b[0m\u001b[0;34m]\u001b[0m\u001b[0;34m\u001b[0m\u001b[0;34m\u001b[0m\u001b[0m\n\u001b[0;32m-> 1165\u001b[0;31m     \u001b[0;32mreturn\u001b[0m \u001b[0moptimfunc\u001b[0m\u001b[0;34m(\u001b[0m\u001b[0mx\u001b[0m\u001b[0;34m,\u001b[0m \u001b[0mbrack\u001b[0m\u001b[0;34m)\u001b[0m\u001b[0;34m\u001b[0m\u001b[0;34m\u001b[0m\u001b[0m\n\u001b[0m\u001b[1;32m   1166\u001b[0m \u001b[0;34m\u001b[0m\u001b[0m\n\u001b[1;32m   1167\u001b[0m \u001b[0;34m\u001b[0m\u001b[0m\n",
      "\u001b[0;32m~/anaconda3/envs/revolut/lib/python3.7/site-packages/scipy/stats/morestats.py\u001b[0m in \u001b[0;36m_mle\u001b[0;34m(x, brack)\u001b[0m\n\u001b[1;32m   1148\u001b[0m             \u001b[0;32mreturn\u001b[0m \u001b[0;34m-\u001b[0m\u001b[0mboxcox_llf\u001b[0m\u001b[0;34m(\u001b[0m\u001b[0mlmb\u001b[0m\u001b[0;34m,\u001b[0m \u001b[0mdata\u001b[0m\u001b[0;34m)\u001b[0m\u001b[0;34m\u001b[0m\u001b[0;34m\u001b[0m\u001b[0m\n\u001b[1;32m   1149\u001b[0m \u001b[0;34m\u001b[0m\u001b[0m\n\u001b[0;32m-> 1150\u001b[0;31m         \u001b[0;32mreturn\u001b[0m \u001b[0moptimize\u001b[0m\u001b[0;34m.\u001b[0m\u001b[0mbrent\u001b[0m\u001b[0;34m(\u001b[0m\u001b[0m_eval_mle\u001b[0m\u001b[0;34m,\u001b[0m \u001b[0mbrack\u001b[0m\u001b[0;34m=\u001b[0m\u001b[0mbrack\u001b[0m\u001b[0;34m,\u001b[0m \u001b[0margs\u001b[0m\u001b[0;34m=\u001b[0m\u001b[0;34m(\u001b[0m\u001b[0mx\u001b[0m\u001b[0;34m,\u001b[0m\u001b[0;34m)\u001b[0m\u001b[0;34m)\u001b[0m\u001b[0;34m\u001b[0m\u001b[0;34m\u001b[0m\u001b[0m\n\u001b[0m\u001b[1;32m   1151\u001b[0m \u001b[0;34m\u001b[0m\u001b[0m\n\u001b[1;32m   1152\u001b[0m     \u001b[0;32mdef\u001b[0m \u001b[0m_all\u001b[0m\u001b[0;34m(\u001b[0m\u001b[0mx\u001b[0m\u001b[0;34m,\u001b[0m \u001b[0mbrack\u001b[0m\u001b[0;34m)\u001b[0m\u001b[0;34m:\u001b[0m\u001b[0;34m\u001b[0m\u001b[0;34m\u001b[0m\u001b[0m\n",
      "\u001b[0;32m~/anaconda3/envs/revolut/lib/python3.7/site-packages/scipy/optimize/optimize.py\u001b[0m in \u001b[0;36mbrent\u001b[0;34m(func, args, brack, tol, full_output, maxiter)\u001b[0m\n\u001b[1;32m   2132\u001b[0m     options = {'xtol': tol,\n\u001b[1;32m   2133\u001b[0m                'maxiter': maxiter}\n\u001b[0;32m-> 2134\u001b[0;31m     \u001b[0mres\u001b[0m \u001b[0;34m=\u001b[0m \u001b[0m_minimize_scalar_brent\u001b[0m\u001b[0;34m(\u001b[0m\u001b[0mfunc\u001b[0m\u001b[0;34m,\u001b[0m \u001b[0mbrack\u001b[0m\u001b[0;34m,\u001b[0m \u001b[0margs\u001b[0m\u001b[0;34m,\u001b[0m \u001b[0;34m**\u001b[0m\u001b[0moptions\u001b[0m\u001b[0;34m)\u001b[0m\u001b[0;34m\u001b[0m\u001b[0;34m\u001b[0m\u001b[0m\n\u001b[0m\u001b[1;32m   2135\u001b[0m     \u001b[0;32mif\u001b[0m \u001b[0mfull_output\u001b[0m\u001b[0;34m:\u001b[0m\u001b[0;34m\u001b[0m\u001b[0;34m\u001b[0m\u001b[0m\n\u001b[1;32m   2136\u001b[0m         \u001b[0;32mreturn\u001b[0m \u001b[0mres\u001b[0m\u001b[0;34m[\u001b[0m\u001b[0;34m'x'\u001b[0m\u001b[0;34m]\u001b[0m\u001b[0;34m,\u001b[0m \u001b[0mres\u001b[0m\u001b[0;34m[\u001b[0m\u001b[0;34m'fun'\u001b[0m\u001b[0;34m]\u001b[0m\u001b[0;34m,\u001b[0m \u001b[0mres\u001b[0m\u001b[0;34m[\u001b[0m\u001b[0;34m'nit'\u001b[0m\u001b[0;34m]\u001b[0m\u001b[0;34m,\u001b[0m \u001b[0mres\u001b[0m\u001b[0;34m[\u001b[0m\u001b[0;34m'nfev'\u001b[0m\u001b[0;34m]\u001b[0m\u001b[0;34m\u001b[0m\u001b[0;34m\u001b[0m\u001b[0m\n",
      "\u001b[0;32m~/anaconda3/envs/revolut/lib/python3.7/site-packages/scipy/optimize/optimize.py\u001b[0m in \u001b[0;36m_minimize_scalar_brent\u001b[0;34m(func, brack, args, xtol, maxiter, **unknown_options)\u001b[0m\n\u001b[1;32m   2164\u001b[0m                   full_output=True, maxiter=maxiter)\n\u001b[1;32m   2165\u001b[0m     \u001b[0mbrent\u001b[0m\u001b[0;34m.\u001b[0m\u001b[0mset_bracket\u001b[0m\u001b[0;34m(\u001b[0m\u001b[0mbrack\u001b[0m\u001b[0;34m)\u001b[0m\u001b[0;34m\u001b[0m\u001b[0;34m\u001b[0m\u001b[0m\n\u001b[0;32m-> 2166\u001b[0;31m     \u001b[0mbrent\u001b[0m\u001b[0;34m.\u001b[0m\u001b[0moptimize\u001b[0m\u001b[0;34m(\u001b[0m\u001b[0;34m)\u001b[0m\u001b[0;34m\u001b[0m\u001b[0;34m\u001b[0m\u001b[0m\n\u001b[0m\u001b[1;32m   2167\u001b[0m     \u001b[0mx\u001b[0m\u001b[0;34m,\u001b[0m \u001b[0mfval\u001b[0m\u001b[0;34m,\u001b[0m \u001b[0mnit\u001b[0m\u001b[0;34m,\u001b[0m \u001b[0mnfev\u001b[0m \u001b[0;34m=\u001b[0m \u001b[0mbrent\u001b[0m\u001b[0;34m.\u001b[0m\u001b[0mget_result\u001b[0m\u001b[0;34m(\u001b[0m\u001b[0mfull_output\u001b[0m\u001b[0;34m=\u001b[0m\u001b[0;32mTrue\u001b[0m\u001b[0;34m)\u001b[0m\u001b[0;34m\u001b[0m\u001b[0;34m\u001b[0m\u001b[0m\n\u001b[1;32m   2168\u001b[0m \u001b[0;34m\u001b[0m\u001b[0m\n",
      "\u001b[0;32m~/anaconda3/envs/revolut/lib/python3.7/site-packages/scipy/optimize/optimize.py\u001b[0m in \u001b[0;36moptimize\u001b[0;34m(self)\u001b[0m\n\u001b[1;32m   1948\u001b[0m         \u001b[0;31m# set up for optimization\u001b[0m\u001b[0;34m\u001b[0m\u001b[0;34m\u001b[0m\u001b[0;34m\u001b[0m\u001b[0m\n\u001b[1;32m   1949\u001b[0m         \u001b[0mfunc\u001b[0m \u001b[0;34m=\u001b[0m \u001b[0mself\u001b[0m\u001b[0;34m.\u001b[0m\u001b[0mfunc\u001b[0m\u001b[0;34m\u001b[0m\u001b[0;34m\u001b[0m\u001b[0m\n\u001b[0;32m-> 1950\u001b[0;31m         \u001b[0mxa\u001b[0m\u001b[0;34m,\u001b[0m \u001b[0mxb\u001b[0m\u001b[0;34m,\u001b[0m \u001b[0mxc\u001b[0m\u001b[0;34m,\u001b[0m \u001b[0mfa\u001b[0m\u001b[0;34m,\u001b[0m \u001b[0mfb\u001b[0m\u001b[0;34m,\u001b[0m \u001b[0mfc\u001b[0m\u001b[0;34m,\u001b[0m \u001b[0mfuncalls\u001b[0m \u001b[0;34m=\u001b[0m \u001b[0mself\u001b[0m\u001b[0;34m.\u001b[0m\u001b[0mget_bracket_info\u001b[0m\u001b[0;34m(\u001b[0m\u001b[0;34m)\u001b[0m\u001b[0;34m\u001b[0m\u001b[0;34m\u001b[0m\u001b[0m\n\u001b[0m\u001b[1;32m   1951\u001b[0m         \u001b[0m_mintol\u001b[0m \u001b[0;34m=\u001b[0m \u001b[0mself\u001b[0m\u001b[0;34m.\u001b[0m\u001b[0m_mintol\u001b[0m\u001b[0;34m\u001b[0m\u001b[0;34m\u001b[0m\u001b[0m\n\u001b[1;32m   1952\u001b[0m         \u001b[0m_cg\u001b[0m \u001b[0;34m=\u001b[0m \u001b[0mself\u001b[0m\u001b[0;34m.\u001b[0m\u001b[0m_cg\u001b[0m\u001b[0;34m\u001b[0m\u001b[0;34m\u001b[0m\u001b[0m\n",
      "\u001b[0;32m~/anaconda3/envs/revolut/lib/python3.7/site-packages/scipy/optimize/optimize.py\u001b[0m in \u001b[0;36mget_bracket_info\u001b[0;34m(self)\u001b[0m\n\u001b[1;32m   1925\u001b[0m         \u001b[0;32melif\u001b[0m \u001b[0mlen\u001b[0m\u001b[0;34m(\u001b[0m\u001b[0mbrack\u001b[0m\u001b[0;34m)\u001b[0m \u001b[0;34m==\u001b[0m \u001b[0;36m2\u001b[0m\u001b[0;34m:\u001b[0m\u001b[0;34m\u001b[0m\u001b[0;34m\u001b[0m\u001b[0m\n\u001b[1;32m   1926\u001b[0m             xa, xb, xc, fa, fb, fc, funcalls = bracket(func, xa=brack[0],\n\u001b[0;32m-> 1927\u001b[0;31m                                                        xb=brack[1], args=args)\n\u001b[0m\u001b[1;32m   1928\u001b[0m         \u001b[0;32melif\u001b[0m \u001b[0mlen\u001b[0m\u001b[0;34m(\u001b[0m\u001b[0mbrack\u001b[0m\u001b[0;34m)\u001b[0m \u001b[0;34m==\u001b[0m \u001b[0;36m3\u001b[0m\u001b[0;34m:\u001b[0m\u001b[0;34m\u001b[0m\u001b[0;34m\u001b[0m\u001b[0m\n\u001b[1;32m   1929\u001b[0m             \u001b[0mxa\u001b[0m\u001b[0;34m,\u001b[0m \u001b[0mxb\u001b[0m\u001b[0;34m,\u001b[0m \u001b[0mxc\u001b[0m \u001b[0;34m=\u001b[0m \u001b[0mbrack\u001b[0m\u001b[0;34m\u001b[0m\u001b[0;34m\u001b[0m\u001b[0m\n",
      "\u001b[0;32m~/anaconda3/envs/revolut/lib/python3.7/site-packages/scipy/optimize/optimize.py\u001b[0m in \u001b[0;36mbracket\u001b[0;34m(func, xa, xb, args, grow_limit, maxiter)\u001b[0m\n\u001b[1;32m   2352\u001b[0m     \u001b[0m_gold\u001b[0m \u001b[0;34m=\u001b[0m \u001b[0;36m1.618034\u001b[0m  \u001b[0;31m# golden ratio: (1.0+sqrt(5.0))/2.0\u001b[0m\u001b[0;34m\u001b[0m\u001b[0;34m\u001b[0m\u001b[0m\n\u001b[1;32m   2353\u001b[0m     \u001b[0m_verysmall_num\u001b[0m \u001b[0;34m=\u001b[0m \u001b[0;36m1e-21\u001b[0m\u001b[0;34m\u001b[0m\u001b[0;34m\u001b[0m\u001b[0m\n\u001b[0;32m-> 2354\u001b[0;31m     \u001b[0mfa\u001b[0m \u001b[0;34m=\u001b[0m \u001b[0mfunc\u001b[0m\u001b[0;34m(\u001b[0m\u001b[0;34m*\u001b[0m\u001b[0;34m(\u001b[0m\u001b[0mxa\u001b[0m\u001b[0;34m,\u001b[0m\u001b[0;34m)\u001b[0m \u001b[0;34m+\u001b[0m \u001b[0margs\u001b[0m\u001b[0;34m)\u001b[0m\u001b[0;34m\u001b[0m\u001b[0;34m\u001b[0m\u001b[0m\n\u001b[0m\u001b[1;32m   2355\u001b[0m     \u001b[0mfb\u001b[0m \u001b[0;34m=\u001b[0m \u001b[0mfunc\u001b[0m\u001b[0;34m(\u001b[0m\u001b[0;34m*\u001b[0m\u001b[0;34m(\u001b[0m\u001b[0mxb\u001b[0m\u001b[0;34m,\u001b[0m\u001b[0;34m)\u001b[0m \u001b[0;34m+\u001b[0m \u001b[0margs\u001b[0m\u001b[0;34m)\u001b[0m\u001b[0;34m\u001b[0m\u001b[0;34m\u001b[0m\u001b[0m\n\u001b[1;32m   2356\u001b[0m     \u001b[0;32mif\u001b[0m \u001b[0;34m(\u001b[0m\u001b[0mfa\u001b[0m \u001b[0;34m<\u001b[0m \u001b[0mfb\u001b[0m\u001b[0;34m)\u001b[0m\u001b[0;34m:\u001b[0m                      \u001b[0;31m# Switch so fa > fb\u001b[0m\u001b[0;34m\u001b[0m\u001b[0;34m\u001b[0m\u001b[0m\n",
      "\u001b[0;32m~/anaconda3/envs/revolut/lib/python3.7/site-packages/scipy/stats/morestats.py\u001b[0m in \u001b[0;36m_eval_mle\u001b[0;34m(lmb, data)\u001b[0m\n\u001b[1;32m   1146\u001b[0m         \u001b[0;32mdef\u001b[0m \u001b[0m_eval_mle\u001b[0m\u001b[0;34m(\u001b[0m\u001b[0mlmb\u001b[0m\u001b[0;34m,\u001b[0m \u001b[0mdata\u001b[0m\u001b[0;34m)\u001b[0m\u001b[0;34m:\u001b[0m\u001b[0;34m\u001b[0m\u001b[0;34m\u001b[0m\u001b[0m\n\u001b[1;32m   1147\u001b[0m             \u001b[0;31m# function to minimize\u001b[0m\u001b[0;34m\u001b[0m\u001b[0;34m\u001b[0m\u001b[0;34m\u001b[0m\u001b[0m\n\u001b[0;32m-> 1148\u001b[0;31m             \u001b[0;32mreturn\u001b[0m \u001b[0;34m-\u001b[0m\u001b[0mboxcox_llf\u001b[0m\u001b[0;34m(\u001b[0m\u001b[0mlmb\u001b[0m\u001b[0;34m,\u001b[0m \u001b[0mdata\u001b[0m\u001b[0;34m)\u001b[0m\u001b[0;34m\u001b[0m\u001b[0;34m\u001b[0m\u001b[0m\n\u001b[0m\u001b[1;32m   1149\u001b[0m \u001b[0;34m\u001b[0m\u001b[0m\n\u001b[1;32m   1150\u001b[0m         \u001b[0;32mreturn\u001b[0m \u001b[0moptimize\u001b[0m\u001b[0;34m.\u001b[0m\u001b[0mbrent\u001b[0m\u001b[0;34m(\u001b[0m\u001b[0m_eval_mle\u001b[0m\u001b[0;34m,\u001b[0m \u001b[0mbrack\u001b[0m\u001b[0;34m=\u001b[0m\u001b[0mbrack\u001b[0m\u001b[0;34m,\u001b[0m \u001b[0margs\u001b[0m\u001b[0;34m=\u001b[0m\u001b[0;34m(\u001b[0m\u001b[0mx\u001b[0m\u001b[0;34m,\u001b[0m\u001b[0;34m)\u001b[0m\u001b[0;34m)\u001b[0m\u001b[0;34m\u001b[0m\u001b[0;34m\u001b[0m\u001b[0m\n",
      "\u001b[0;32m~/anaconda3/envs/revolut/lib/python3.7/site-packages/scipy/stats/morestats.py\u001b[0m in \u001b[0;36mboxcox_llf\u001b[0;34m(lmb, data)\u001b[0m\n\u001b[1;32m    897\u001b[0m         \u001b[0;32mreturn\u001b[0m \u001b[0mnp\u001b[0m\u001b[0;34m.\u001b[0m\u001b[0mnan\u001b[0m\u001b[0;34m\u001b[0m\u001b[0;34m\u001b[0m\u001b[0m\n\u001b[1;32m    898\u001b[0m \u001b[0;34m\u001b[0m\u001b[0m\n\u001b[0;32m--> 899\u001b[0;31m     \u001b[0mlogdata\u001b[0m \u001b[0;34m=\u001b[0m \u001b[0mnp\u001b[0m\u001b[0;34m.\u001b[0m\u001b[0mlog\u001b[0m\u001b[0;34m(\u001b[0m\u001b[0mdata\u001b[0m\u001b[0;34m)\u001b[0m\u001b[0;34m\u001b[0m\u001b[0;34m\u001b[0m\u001b[0m\n\u001b[0m\u001b[1;32m    900\u001b[0m \u001b[0;34m\u001b[0m\u001b[0m\n\u001b[1;32m    901\u001b[0m     \u001b[0;31m# Compute the variance of the transformed data.\u001b[0m\u001b[0;34m\u001b[0m\u001b[0;34m\u001b[0m\u001b[0;34m\u001b[0m\u001b[0m\n",
      "\u001b[0;31mTypeError\u001b[0m: loop of ufunc does not support argument 0 of type int which has no callable log method"
     ]
    }
   ],
   "source": [
    "box_cox_scores = stats.boxcox(p.posts[p.posts.score>1].score)"
   ]
  },
  {
   "cell_type": "code",
   "execution_count": 84,
   "metadata": {},
   "outputs": [],
   "source": [
    "median = p.posts.score.median()\n",
    "mean = p.posts.score.mean()"
   ]
  },
  {
   "cell_type": "code",
   "execution_count": 81,
   "metadata": {},
   "outputs": [
    {
     "data": {
      "text/plain": [
       " 1       1673786\n",
       " 2        699024\n",
       " 3        313172\n",
       " 4        148315\n",
       " 5         84861\n",
       "          ...   \n",
       " 1767          1\n",
       " 1768          1\n",
       " 1776          1\n",
       " 1920          1\n",
       "-1             1\n",
       "Name: score, Length: 1561, dtype: Int64"
      ]
     },
     "execution_count": 81,
     "metadata": {},
     "output_type": "execute_result"
    }
   ],
   "source": [
    "p.posts.score.value_counts()"
   ]
  },
  {
   "cell_type": "code",
   "execution_count": 105,
   "metadata": {},
   "outputs": [
    {
     "data": {
      "text/plain": [
       "0.00    -1.00\n",
       "0.99   222.00\n",
       "Name: score, dtype: object"
      ]
     },
     "execution_count": 105,
     "metadata": {},
     "output_type": "execute_result"
    }
   ],
   "source": [
    "p.posts.score.quantile([0,0.99])"
   ]
  },
  {
   "cell_type": "code",
   "execution_count": 107,
   "metadata": {},
   "outputs": [
    {
     "data": {
      "text/plain": [
       "36         112\n",
       "132        232\n",
       "146         54\n",
       "155         75\n",
       "165         77\n",
       "          ... \n",
       "3509326     63\n",
       "3509356    317\n",
       "3509376    195\n",
       "3509403    279\n",
       "3509404     89\n",
       "Name: score, Length: 188489, dtype: Int64"
      ]
     },
     "execution_count": 107,
     "metadata": {},
     "output_type": "execute_result"
    }
   ],
   "source": [
    "p.posts.score[p.posts.score >50]"
   ]
  },
  {
   "cell_type": "code",
   "execution_count": 108,
   "metadata": {},
   "outputs": [],
   "source": [
    "p.posts = p.posts[p.posts.score <= 222]"
   ]
  },
  {
   "cell_type": "code",
   "execution_count": 110,
   "metadata": {},
   "outputs": [
    {
     "data": {
      "text/plain": [
       "<matplotlib.axes._subplots.AxesSubplot at 0x16336c090>"
      ]
     },
     "execution_count": 110,
     "metadata": {},
     "output_type": "execute_result"
    },
    {
     "data": {
      "image/png": "[encoded data removed]",
      "text/plain": [
       "<Figure size 432x288 with 1 Axes>"
      ]
     },
     "metadata": {
      "needs_background": "light"
     },
     "output_type": "display_data"
    }
   ],
   "source": [
    "p.posts.score.plot.hist()"
   ]
  },
  {
   "cell_type": "code",
   "execution_count": 111,
   "metadata": {},
   "outputs": [
    {
     "name": "stderr",
     "output_type": "stream",
     "text": [
      "/Users/charlesp/anaconda3/envs/revolut/lib/python3.7/site-packages/ipykernel_launcher.py:1: SettingWithCopyWarning: \n",
      "A value is trying to be set on a copy of a slice from a DataFrame.\n",
      "Try using .loc[row_indexer,col_indexer] = value instead\n",
      "\n",
      "See the caveats in the documentation: https://pandas.pydata.org/pandas-docs/stable/user_guide/indexing.html#returning-a-view-versus-a-copy\n",
      "  \"\"\"Entry point for launching an IPython kernel.\n"
     ]
    }
   ],
   "source": [
    "p.posts['score'] = np.log(p.posts.score+2)\n"
   ]
  },
  {
   "cell_type": "code",
   "execution_count": 118,
   "metadata": {},
   "outputs": [
    {
     "data": {
      "text/plain": [
       "<matplotlib.axes._subplots.AxesSubplot at 0x167430b10>"
      ]
     },
     "execution_count": 118,
     "metadata": {},
     "output_type": "execute_result"
    },
    {
     "data": {
      "image/png": "[encoded data removed]",
      "text/plain": [
       "<Figure size 432x288 with 1 Axes>"
      ]
     },
     "metadata": {
      "needs_background": "light"
     },
     "output_type": "display_data"
    }
   ],
   "source": [
    "p.posts.score.plot.hist(bins=100)"
   ]
  },
  {
   "cell_type": "code",
   "execution_count": 113,
   "metadata": {},
   "outputs": [
    {
     "data": {
      "text/html": [
       "<div>\n",
       "<style scoped>\n",
       "    .dataframe tbody tr th:only-of-type {\n",
       "        vertical-align: middle;\n",
       "    }\n",
       "\n",
       "    .dataframe tbody tr th {\n",
       "        vertical-align: top;\n",
       "    }\n",
       "\n",
       "    .dataframe thead th {\n",
       "        text-align: right;\n",
       "    }\n",
       "</style>\n",
       "<table border=\"1\" class=\"dataframe\">\n",
       "  <thead>\n",
       "    <tr style=\"text-align: right;\">\n",
       "      <th></th>\n",
       "      <th>id</th>\n",
       "      <th>title</th>\n",
       "      <th>url</th>\n",
       "      <th>type</th>\n",
       "      <th>score</th>\n",
       "      <th>timestamp</th>\n",
       "      <th>len</th>\n",
       "    </tr>\n",
       "  </thead>\n",
       "  <tbody>\n",
       "    <tr>\n",
       "      <th>0</th>\n",
       "      <td>3676512</td>\n",
       "      <td>engadget  new ipad is official 2048x1536 retin...</td>\n",
       "      <td>http://www.engadget.com/2012/03/07/the-new-ipa...</td>\n",
       "      <td>story</td>\n",
       "      <td>3.00</td>\n",
       "      <td>2012-03-07 18:28:01</td>\n",
       "      <td>46</td>\n",
       "    </tr>\n",
       "    <tr>\n",
       "      <th>1</th>\n",
       "      <td>22034463</td>\n",
       "      <td>amymhaddad  the art of problemsolving</td>\n",
       "      <td>https://amymhaddad.com/the-art-of-problem-solving</td>\n",
       "      <td>story</td>\n",
       "      <td>1.39</td>\n",
       "      <td>2020-01-13 13:57:43</td>\n",
       "      <td>26</td>\n",
       "    </tr>\n",
       "    <tr>\n",
       "      <th>2</th>\n",
       "      <td>752581</td>\n",
       "      <td>crenk  twitter is for old people</td>\n",
       "      <td>http://crenk.com/twitter-is-for-old-people/</td>\n",
       "      <td>story</td>\n",
       "      <td>1.10</td>\n",
       "      <td>2009-08-10 11:37:22</td>\n",
       "      <td>25</td>\n",
       "    </tr>\n",
       "    <tr>\n",
       "      <th>3</th>\n",
       "      <td>8176404</td>\n",
       "      <td>nytimes  president obama no internet fast lanes</td>\n",
       "      <td>http://www.nytimes.com/2014/08/14/opinion/pres...</td>\n",
       "      <td>story</td>\n",
       "      <td>1.39</td>\n",
       "      <td>2014-08-14 07:18:32</td>\n",
       "      <td>39</td>\n",
       "    </tr>\n",
       "    <tr>\n",
       "      <th>4</th>\n",
       "      <td>8160475</td>\n",
       "      <td>gizmodo  free photo editing software lets you ...</td>\n",
       "      <td>http://reframe.gizmodo.com/free-photo-editing-...</td>\n",
       "      <td>story</td>\n",
       "      <td>1.39</td>\n",
       "      <td>2014-08-10 19:32:42</td>\n",
       "      <td>61</td>\n",
       "    </tr>\n",
       "  </tbody>\n",
       "</table>\n",
       "</div>"
      ],
      "text/plain": [
       "         id                                              title  \\\n",
       "0   3676512  engadget  new ipad is official 2048x1536 retin...   \n",
       "1  22034463              amymhaddad  the art of problemsolving   \n",
       "2    752581                   crenk  twitter is for old people   \n",
       "3   8176404    nytimes  president obama no internet fast lanes   \n",
       "4   8160475  gizmodo  free photo editing software lets you ...   \n",
       "\n",
       "                                                 url   type  score  \\\n",
       "0  http://www.engadget.com/2012/03/07/the-new-ipa...  story   3.00   \n",
       "1  https://amymhaddad.com/the-art-of-problem-solving  story   1.39   \n",
       "2        http://crenk.com/twitter-is-for-old-people/  story   1.10   \n",
       "3  http://www.nytimes.com/2014/08/14/opinion/pres...  story   1.39   \n",
       "4  http://reframe.gizmodo.com/free-photo-editing-...  story   1.39   \n",
       "\n",
       "            timestamp  len  \n",
       "0 2012-03-07 18:28:01   46  \n",
       "1 2020-01-13 13:57:43   26  \n",
       "2 2009-08-10 11:37:22   25  \n",
       "3 2014-08-14 07:18:32   39  \n",
       "4 2014-08-10 19:32:42   61  "
      ]
     },
     "execution_count": 113,
     "metadata": {},
     "output_type": "execute_result"
    }
   ],
   "source": [
    "p.posts.head()"
   ]
  },
  {
   "cell_type": "code",
   "execution_count": 115,
   "metadata": {},
   "outputs": [],
   "source": [
    "import math"
   ]
  },
  {
   "cell_type": "code",
   "execution_count": 117,
   "metadata": {},
   "outputs": [
    {
     "name": "stdout",
     "output_type": "stream",
     "text": [
      "18.085536923187668\n"
     ]
    }
   ],
   "source": [
    "print(math.exp(3.0)-2)"
   ]
  },
  {
   "cell_type": "code",
   "execution_count": null,
   "metadata": {},
   "outputs": [],
   "source": []
  }
 ],
 "metadata": {
  "kernelspec": {
   "display_name": "Python 3",
   "language": "python",
   "name": "python3"
  },
  "language_info": {
   "codemirror_mode": {
    "name": "ipython",
    "version": 3
   },
   "file_extension": ".py",
   "mimetype": "text/x-python",
   "name": "python",
   "nbconvert_exporter": "python",
   "pygments_lexer": "ipython3",
   "version": "3.7.7"
  }
 },
 "nbformat": 4,
 "nbformat_minor": 4
}
